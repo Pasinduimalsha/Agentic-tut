{
  "nbformat": 4,
  "nbformat_minor": 0,
  "metadata": {
    "colab": {
      "provenance": [],
      "authorship_tag": "ABX9TyMfLx1U1aQ8Vcgj/JQwfyit",
      "include_colab_link": true
    },
    "kernelspec": {
      "name": "python3",
      "display_name": "Python 3"
    },
    "language_info": {
      "name": "python"
    }
  },
  "cells": [
    {
      "cell_type": "markdown",
      "metadata": {
        "id": "view-in-github",
        "colab_type": "text"
      },
      "source": [
        "<a href=\"https://colab.research.google.com/github/Pasinduimalsha/Agentic-tut/blob/main/Langraph_stage_3_agent.ipynb\" target=\"_parent\"><img src=\"https://colab.research.google.com/assets/colab-badge.svg\" alt=\"Open In Colab\"/></a>"
      ]
    },
    {
      "cell_type": "code",
      "execution_count": 51,
      "metadata": {
        "id": "h-TMknuoBkmn"
      },
      "outputs": [],
      "source": [
        "!pip install langchain==0.3.24 -q\n",
        "!pip install langchain-openai -q"
      ]
    },
    {
      "cell_type": "code",
      "source": [
        "!pip install langchain-community -q"
      ],
      "metadata": {
        "id": "kNeTQPUIZ4l6"
      },
      "execution_count": 52,
      "outputs": []
    },
    {
      "cell_type": "code",
      "source": [
        "!pip install langgraph -q"
      ],
      "metadata": {
        "id": "6MCBBANrZ7CG"
      },
      "execution_count": 53,
      "outputs": []
    },
    {
      "cell_type": "code",
      "source": [
        "!pip install duckduckgo-search -qU\n",
        "!pip install pyowm -qU"
      ],
      "metadata": {
        "id": "BWlKoVb_WQNm"
      },
      "execution_count": 48,
      "outputs": []
    },
    {
      "cell_type": "code",
      "source": [
        "!pip install -U ddgs -q"
      ],
      "metadata": {
        "id": "I87b8RFGd5cn"
      },
      "execution_count": 58,
      "outputs": []
    },
    {
      "cell_type": "code",
      "source": [
        "from typing import Annotated, Sequence, TypedDict\n",
        "from langchain_core.messages import BaseMessage, ToolMessage, SystemMessage\n",
        "from langchain_openai import ChatOpenAI\n",
        "from langchain_core.tools import tool\n",
        "from langgraph.graph.message import add_messages\n",
        "from langgraph.graph import StateGraph, START, END\n",
        "from langgraph.prebuilt import ToolNode"
      ],
      "metadata": {
        "id": "51eBOkcXCjxO"
      },
      "execution_count": 24,
      "outputs": []
    },
    {
      "cell_type": "code",
      "source": [
        "class AgentState(TypedDict):\n",
        "  messages: Annotated[Sequence[BaseMessage], add_messages]"
      ],
      "metadata": {
        "id": "aiqIh-QlDvqf"
      },
      "execution_count": 25,
      "outputs": []
    },
    {
      "cell_type": "code",
      "source": [
        "import os\n",
        "from google.colab import userdata\n",
        "\n",
        "os.environ[\"OPENAI_API_KEY\"] = userdata.get('API_KEY')"
      ],
      "metadata": {
        "id": "TG9DormfEYDE"
      },
      "execution_count": 26,
      "outputs": []
    },
    {
      "cell_type": "code",
      "source": [
        "llm = ChatOpenAI(\n",
        "    model_name=\"gpt-4o-mini\")"
      ],
      "metadata": {
        "id": "ED6iaf0bEdWY"
      },
      "execution_count": 38,
      "outputs": []
    },
    {
      "cell_type": "code",
      "source": [
        "from langchain_community.tools import  DuckDuckGoSearchRun\n",
        "from langchain_community.utilities import OpenWeatherMapAPIWrapper\n",
        "from langchain.agents import load_tools\n",
        "\n",
        "os.environ[\"OPENWEATHERMAP_API_KEY\"] = userdata.get('OPENWEATHERMAP_API_KEY')\n",
        "# os.environ['TAVILY_API_KEY'] = userdata.get('TAVILY_API_KEY')\n",
        "\n",
        "# Initialize DuckDuckGo search tool\n",
        "# search_tool = TavilySearch()\n",
        "search_tool = DuckDuckGoSearchRun()\n",
        "\n",
        "# Initialize OpenWeatherMap tool\n",
        "weather = OpenWeatherMapAPIWrapper()\n",
        "\n",
        "weather_tool = load_tools([\"openweathermap-api\"], llm)[0]"
      ],
      "metadata": {
        "id": "E066xywEEmBR"
      },
      "execution_count": 59,
      "outputs": []
    },
    {
      "cell_type": "markdown",
      "source": [
        "@tool\n",
        "def addition(a: int, b: int):\n",
        "  \"\"\"This is the addition function  that add 2 numbers\"\"\"\n",
        "  return a + b\n",
        "\n",
        "@tool\n",
        "def subtraction(a: int, b: int):\n",
        "  \"\"\"This is the subtraction function  that subtract 2 numbers\"\"\"\n",
        "  return a - b\n",
        "\n",
        "@tool\n",
        "def multiplication(a: int, b: int):\n",
        "  \"\"\"This is the multiplication function  that multiply 2 numbers\"\"\"\n",
        "  return a * b\n",
        "\n",
        "@tool\n",
        "def division(a: int, b: int):\n",
        "  \"\"\"This is the division function  that divide 2 numbers\"\"\"\n",
        "  return a / b\n",
        "\n",
        "tools = [addition, subtraction, multiplication, division]\n"
      ],
      "metadata": {
        "id": "Cl1PiA3BXv5S"
      }
    },
    {
      "cell_type": "code",
      "source": [
        "tools = [search_tool, weather_tool]"
      ],
      "metadata": {
        "id": "9BziXZ2KGWn-"
      },
      "execution_count": 60,
      "outputs": []
    },
    {
      "cell_type": "code",
      "source": [
        "llm_with_tools = llm.bind_tools(tools)"
      ],
      "metadata": {
        "id": "keeLXlY6Gavm"
      },
      "execution_count": 61,
      "outputs": []
    },
    {
      "cell_type": "code",
      "source": [
        " def llm_call(state:AgentState) -> AgentState:\n",
        "  system_prompt = SystemMessage(content=\n",
        "      \"You are an intelligent AI assistant, please answer my query.\"\n",
        "       )\n",
        "  response = llm_with_tools.invoke([system_prompt]+ state[\"messages\"])\n",
        "  return {\"messages\": [response]}"
      ],
      "metadata": {
        "id": "Volja32OGjJW"
      },
      "execution_count": 62,
      "outputs": []
    },
    {
      "cell_type": "code",
      "source": [
        "def decision_node(state:AgentState):\n",
        "  message = state[\"messages\"]\n",
        "  last_message = message[-1]\n",
        "  if not last_message.tool_calls:\n",
        "    return \"end\"\n",
        "  else:\n",
        "    return \"continue\""
      ],
      "metadata": {
        "id": "VU5wmwTYK_J6"
      },
      "execution_count": 63,
      "outputs": []
    },
    {
      "cell_type": "code",
      "source": [
        "workflow = StateGraph(AgentState)\n",
        "\n",
        "workflow.add_node(\"agent\", llm_call)\n",
        "\n",
        "tool_node = ToolNode(tools=tools)\n",
        "workflow.add_node(\"tools\", tool_node)\n",
        "\n",
        "workflow.add_edge( START, \"agent\")\n",
        "workflow.add_conditional_edges(\n",
        "    \"agent\",\n",
        "    decision_node,\n",
        "    {\n",
        "        \"continue\": \"tools\",\n",
        "        \"end\": END\n",
        "    }\n",
        ")\n",
        "workflow.add_edge(\"tools\", \"agent\")\n",
        "\n",
        "app = workflow.compile()\n"
      ],
      "metadata": {
        "id": "9OcbiUwYLf-D"
      },
      "execution_count": 64,
      "outputs": []
    },
    {
      "cell_type": "code",
      "source": [
        "from IPython.display import Image, display\n",
        "display(Image(app.get_graph().draw_mermaid_png()))"
      ],
      "metadata": {
        "colab": {
          "base_uri": "https://localhost:8080/",
          "height": 290
        },
        "id": "ldFP8xKMMg4k",
        "outputId": "2f6ceb9e-2c10-4f96-e58f-ca209d90645f"
      },
      "execution_count": 65,
      "outputs": [
        {
          "output_type": "display_data",
          "data": {
            "image/png": "[encoded data removed]",
            "text/plain": [
              "<IPython.core.display.Image object>"
            ]
          },
          "metadata": {}
        }
      ]
    },
    {
      "cell_type": "code",
      "source": [
        "def print_steam(stream):\n",
        "  for s in stream:\n",
        "    message = s[\"messages\"][-1]\n",
        "    if isinstance(message, tuple):\n",
        "        print(message.content)\n",
        "    else:\n",
        "        message.pretty_print()\n",
        "\n",
        "\n"
      ],
      "metadata": {
        "id": "GxL70_tJMlJ7"
      },
      "execution_count": 66,
      "outputs": []
    },
    {
      "cell_type": "code",
      "source": [
        "inputs = {\"messages\": [(\"user\", \"current weather in Embilipitiya\")]}\n",
        "\n",
        "print_steam(app.stream(inputs, stream_mode=\"values\"))"
      ],
      "metadata": {
        "colab": {
          "base_uri": "https://localhost:8080/"
        },
        "id": "J6LZ_dYjNR8U",
        "outputId": "08e8e95b-3ac3-4847-b3f8-5894c01dbb9b"
      },
      "execution_count": 69,
      "outputs": [
        {
          "output_type": "stream",
          "name": "stdout",
          "text": [
            "================================\u001b[1m Human Message \u001b[0m=================================\n",
            "\n",
            "current weather in Embilipitiya\n",
            "==================================\u001b[1m Ai Message \u001b[0m==================================\n",
            "Tool Calls:\n",
            "  open_weather_map (call_hOAWGd7G3NPyv4qoWk2HIOew)\n",
            " Call ID: call_hOAWGd7G3NPyv4qoWk2HIOew\n",
            "  Args:\n",
            "    location: Embilipitiya\n",
            "=================================\u001b[1m Tool Message \u001b[0m=================================\n",
            "Name: open_weather_map\n",
            "\n",
            "In Embilipitiya, the current weather is as follows:\n",
            "Detailed status: broken clouds\n",
            "Wind speed: 4.71 m/s, direction: 259°\n",
            "Humidity: 74%\n",
            "Temperature: \n",
            "  - Current: 26.29°C\n",
            "  - High: 26.29°C\n",
            "  - Low: 26.29°C\n",
            "  - Feels like: 26.29°C\n",
            "Rain: {}\n",
            "Heat index: None\n",
            "Cloud cover: 78%\n",
            "==================================\u001b[1m Ai Message \u001b[0m==================================\n",
            "\n",
            "The current weather in Embilipitiya is as follows:\n",
            "\n",
            "- **Condition:** Broken clouds\n",
            "- **Temperature:** 26.29°C (Feels like 26.29°C)\n",
            "- **Humidity:** 74%\n",
            "- **Wind Speed:** 4.71 m/s (from the west)\n",
            "- **Cloud Cover:** 78%\n",
            "\n",
            "There is no rain reported at the moment.\n"
          ]
        }
      ]
    },
    {
      "cell_type": "code",
      "source": [],
      "metadata": {
        "id": "GTeN1NvhNxfS"
      },
      "execution_count": 36,
      "outputs": []
    }
  ]
}