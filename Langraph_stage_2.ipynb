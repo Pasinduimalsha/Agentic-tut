{
  "nbformat": 4,
  "nbformat_minor": 0,
  "metadata": {
    "colab": {
      "provenance": [],
      "authorship_tag": "ABX9TyOFPJq/GbCyPL8pQt2+Mn9W",
      "include_colab_link": true
    },
    "kernelspec": {
      "name": "python3",
      "display_name": "Python 3"
    },
    "language_info": {
      "name": "python"
    }
  },
  "cells": [
    {
      "cell_type": "markdown",
      "metadata": {
        "id": "view-in-github",
        "colab_type": "text"
      },
      "source": [
        "<a href=\"https://colab.research.google.com/github/Pasinduimalsha/Agentic-tut/blob/main/Langraph_stage_2.ipynb\" target=\"_parent\"><img src=\"https://colab.research.google.com/assets/colab-badge.svg\" alt=\"Open In Colab\"/></a>"
      ]
    },
    {
      "cell_type": "code",
      "execution_count": 1,
      "metadata": {
        "colab": {
          "base_uri": "https://localhost:8080/"
        },
        "id": "l522fTbJjkay",
        "outputId": "bba434a3-9b8c-4854-d972-c7dec8935bb9"
      },
      "outputs": [
        {
          "output_type": "stream",
          "name": "stdout",
          "text": [
            "\u001b[2K     \u001b[90m━━━━━━━━━━━━━━━━━━━━━━━━━━━━━━━━━━━━━━━━\u001b[0m \u001b[32m43.7/43.7 kB\u001b[0m \u001b[31m2.6 MB/s\u001b[0m eta \u001b[36m0:00:00\u001b[0m\n",
            "\u001b[2K   \u001b[90m━━━━━━━━━━━━━━━━━━━━━━━━━━━━━━━━━━━━━━━━\u001b[0m \u001b[32m153.3/153.3 kB\u001b[0m \u001b[31m12.0 MB/s\u001b[0m eta \u001b[36m0:00:00\u001b[0m\n",
            "\u001b[2K   \u001b[90m━━━━━━━━━━━━━━━━━━━━━━━━━━━━━━━━━━━━━━━━\u001b[0m \u001b[32m43.9/43.9 kB\u001b[0m \u001b[31m3.6 MB/s\u001b[0m eta \u001b[36m0:00:00\u001b[0m\n",
            "\u001b[2K   \u001b[90m━━━━━━━━━━━━━━━━━━━━━━━━━━━━━━━━━━━━━━━━\u001b[0m \u001b[32m54.6/54.6 kB\u001b[0m \u001b[31m2.6 MB/s\u001b[0m eta \u001b[36m0:00:00\u001b[0m\n",
            "\u001b[2K   \u001b[90m━━━━━━━━━━━━━━━━━━━━━━━━━━━━━━━━━━━━━━━━\u001b[0m \u001b[32m216.7/216.7 kB\u001b[0m \u001b[31m4.3 MB/s\u001b[0m eta \u001b[36m0:00:00\u001b[0m\n",
            "\u001b[?25h"
          ]
        }
      ],
      "source": [
        "!pip install langgraph -q"
      ]
    },
    {
      "cell_type": "code",
      "source": [
        "from typing import TypedDict"
      ],
      "metadata": {
        "id": "L2iYd3PrjtZj"
      },
      "execution_count": 8,
      "outputs": []
    },
    {
      "cell_type": "code",
      "source": [
        "class AgentState(TypedDict):\n",
        "    num1: int\n",
        "    num2: int\n",
        "    result: int\n",
        "    operation: str"
      ],
      "metadata": {
        "id": "Gt-a92Oij4Qq"
      },
      "execution_count": 52,
      "outputs": []
    },
    {
      "cell_type": "code",
      "source": [
        "def addition(state: AgentState)-> AgentState:\n",
        "  state[\"result\"] = state[\"num1\"] + state[\"num2\"]\n",
        "  return state\n",
        "def substraction(state: AgentState)-> AgentState:\n",
        "  state[\"result\"] = state[\"num1\"] - state[\"num2\"]\n",
        "  return state\n",
        "def multiplication(state: AgentState)-> AgentState:\n",
        "  state[\"result\"] = state[\"num1\"] * state[\"num2\"]\n",
        "  return state\n",
        "def division(state: AgentState)-> AgentState:\n",
        "  state[\"result\"] = state[\"num1\"] / state[\"num2\"]\n",
        "  return state\n",
        "def decision_node(state: AgentState)-> AgentState:\n",
        "  if state[\"operation\"] == \"+\":\n",
        "    return \"addition_operation\"\n",
        "  elif state[\"operation\"] == \"-\":\n",
        "    return \"substraction_operation\"\n",
        "  elif state[\"operation\"] == \"*\":\n",
        "    return \"multiplication_operation\"\n",
        "  elif state[\"operation\"] == \"/\":\n",
        "    return \"division_operation\""
      ],
      "metadata": {
        "id": "jE51LVGrkHjC"
      },
      "execution_count": 53,
      "outputs": []
    },
    {
      "cell_type": "code",
      "source": [
        "from langgraph.graph import StateGraph, START, END"
      ],
      "metadata": {
        "id": "m7RyNL_Vlu-i"
      },
      "execution_count": 54,
      "outputs": []
    },
    {
      "cell_type": "code",
      "source": [
        "workflow = StateGraph(AgentState);\n",
        "\n",
        "workflow.add_node(\"addition\", addition)\n",
        "workflow.add_node(\"substraction\", substraction)\n",
        "workflow.add_node(\"multiplication\", multiplication)\n",
        "workflow.add_node(\"division\", division)\n",
        "workflow.add_node(\"router\", lambda state:state)\n",
        "\n",
        "workflow.add_edge(START, \"router\")\n",
        "workflow.add_conditional_edges(\n",
        "    \"router\",\n",
        "    decision_node,\n",
        "    {\n",
        "        \"addition_operation\": \"addition\",\n",
        "        \"substraction_operation\": \"substraction\",\n",
        "        \"multiplication_operation\": \"multiplication\",\n",
        "        \"division_operation\": \"division\"\n",
        "    }\n",
        ")\n",
        "workflow.add_edge(\"addition\", END)\n",
        "workflow.add_edge(\"substraction\", END)\n",
        "workflow.add_edge(\"multiplication\", END)\n",
        "workflow.add_edge(\"division\", END)\n",
        "\n",
        "app = workflow.compile()"
      ],
      "metadata": {
        "id": "ICUPz-a1l0en"
      },
      "execution_count": 55,
      "outputs": []
    },
    {
      "cell_type": "code",
      "source": [
        "from IPython.display import Image, display\n",
        "display(Image(app.get_graph().draw_mermaid_png()))"
      ],
      "metadata": {
        "colab": {
          "base_uri": "https://localhost:8080/",
          "height": 356
        },
        "id": "FMpfjQX9n0DL",
        "outputId": "8e1751cc-1b0a-419d-f5e1-4dbb9968ed28"
      },
      "execution_count": 56,
      "outputs": [
        {
          "output_type": "display_data",
          "data": {
            "image/png": "[encoded data removed]",
            "text/plain": [
              "<IPython.core.display.Image object>"
            ]
          },
          "metadata": {}
        }
      ]
    },
    {
      "cell_type": "code",
      "source": [
        "result = app.invoke({\"num1\": 20, \"num2\": 5, \"operation\": \"+\"})\n",
        "print(result['result'])"
      ],
      "metadata": {
        "colab": {
          "base_uri": "https://localhost:8080/"
        },
        "id": "uwAMH_2KomuU",
        "outputId": "599219d6-71cf-47c2-e305-5661c9529681"
      },
      "execution_count": 58,
      "outputs": [
        {
          "output_type": "stream",
          "name": "stdout",
          "text": [
            "25\n"
          ]
        }
      ]
    },
    {
      "cell_type": "code",
      "source": [],
      "metadata": {
        "id": "QnVBaPWXs5WA"
      },
      "execution_count": null,
      "outputs": []
    }
  ]
}